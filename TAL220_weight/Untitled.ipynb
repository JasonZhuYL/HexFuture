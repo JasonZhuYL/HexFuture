{
 "cells": [
  {
   "cell_type": "code",
   "execution_count": null,
   "id": "e8e82034",
   "metadata": {},
   "outputs": [],
   "source": [
    "from hx711 import HX711\n",
    "\n",
    "    try:\n",
    "        hx711 = HX711(\n",
    "            dout_pin=5,\n",
    "            pd_sck_pin=6,\n",
    "            channel='A',\n",
    "            gain=64\n",
    "        )\n",
    "\n",
    "        hx711.reset()   # Before we start, reset the HX711 (not obligate)\n",
    "        measures = hx711.get_raw_data(num_measures=3)\n",
    "    finally:\n",
    "        GPIO.cleanup()  # always do a GPIO cleanup in your scripts!\n",
    "\n",
    "    print(\"\\n\".join(measures))"
   ]
  }
 ],
 "metadata": {
  "kernelspec": {
   "display_name": "Python 3 (ipykernel)",
   "language": "python",
   "name": "python3"
  },
  "language_info": {
   "codemirror_mode": {
    "name": "ipython",
    "version": 3
   },
   "file_extension": ".py",
   "mimetype": "text/x-python",
   "name": "python",
   "nbconvert_exporter": "python",
   "pygments_lexer": "ipython3",
   "version": "3.9.2"
  }
 },
 "nbformat": 4,
 "nbformat_minor": 5
}
