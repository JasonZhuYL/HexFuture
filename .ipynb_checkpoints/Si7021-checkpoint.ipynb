{
 "cells": [
  {
   "cell_type": "code",
   "execution_count": 1,
   "id": "cc607345",
   "metadata": {},
   "outputs": [
    {
     "name": "stdout",
     "output_type": "stream",
     "text": [
      "{\"temp\": 26692, \"name\": \"hexfuture\", \"time\": 1644404148.3865702}\n"
     ]
    },
    {
     "ename": "KeyboardInterrupt",
     "evalue": "",
     "output_type": "error",
     "traceback": [
      "\u001b[0;31m---------------------------------------------------------------------------\u001b[0m",
      "\u001b[0;31mKeyboardInterrupt\u001b[0m                         Traceback (most recent call last)",
      "Input \u001b[0;32mIn [1]\u001b[0m, in \u001b[0;36m<module>\u001b[0;34m\u001b[0m\n\u001b[1;32m     39\u001b[0m mqtt\u001b[38;5;241m.\u001b[39merror_string(MSG_INFO\u001b[38;5;241m.\u001b[39mrc)\n\u001b[1;32m     40\u001b[0m \u001b[38;5;28mprint\u001b[39m(payload)\n\u001b[0;32m---> 41\u001b[0m \u001b[43mtime\u001b[49m\u001b[38;5;241;43m.\u001b[39;49m\u001b[43msleep\u001b[49m\u001b[43m(\u001b[49m\u001b[38;5;241;43m60\u001b[39;49m\u001b[43m)\u001b[49m\n",
      "\u001b[0;31mKeyboardInterrupt\u001b[0m: "
     ]
    }
   ],
   "source": [
    "import smbus2\n",
    "import time\n",
    "import json\n",
    "import paho.mqtt.client as mqtt\n",
    "\n",
    "#create the i2c bus\n",
    "bus = smbus2.SMBus(1)\n",
    "\n",
    "def on_connect(client, userdata, flags, rc):\n",
    "    print(\"Connected with result code: \" + str(rc))\n",
    "\n",
    "client = mqtt.Client()\n",
    "client.on_connect = on_connect\n",
    "#set private key \n",
    "#(ca_certs=BROKER_CERT,certfile=CLIENT_CERT,keyfile=PRIVATE_KEY,tls_version=ssl.PROTOCOL_TLSv1_2)\n",
    "#client.tls_set(ca_certs=\"mosquitto.org.crt\", certfile=\"client.crt\",keyfile='client.key')\n",
    "#(BROKER_ADDRESS,port=N)\n",
    "client.connect(\"broker.mqttdashboard.com\",port=1883)\n",
    "\n",
    "while True:\n",
    "    meas_temp= smbus2.i2c_msg.write(0x40,[0xf3])\n",
    "    bus.i2c_rdwr(meas_temp)\n",
    "\n",
    "    #wait for measurement\n",
    "    time.sleep(0.1)\n",
    "\n",
    "    #send the read temperature command and read 2 bytes of data\n",
    "    read_result= smbus2.i2c_msg.read(0x40,2)\n",
    "    bus.i2c_rdwr(read_result)\n",
    "\n",
    "    #convert the result to INT type\n",
    "    temp = int.from_bytes(read_result.buf[0]+read_result.buf[1],'big')\n",
    "\n",
    "    #package into JSON\n",
    "    sensor_data = {'temp':temp,'name':'hexfuture','time':time.time()}\n",
    "    payload = json.dumps(sensor_data)\n",
    "    #pulish message\n",
    "    MSG_INFO = client.publish(\"IC.embedded/hexfuture/test\",payload,qos=2)\n",
    "    mqtt.error_string(MSG_INFO.rc)\n",
    "    print(payload)\n",
    "    time.sleep(60)\n",
    "\n",
    "\n"
   ]
  },
  {
   "cell_type": "code",
   "execution_count": 21,
   "id": "85df1a1b",
   "metadata": {},
   "outputs": [
    {
     "name": "stdout",
     "output_type": "stream",
     "text": [
      "26588\n"
     ]
    }
   ],
   "source": [
    "import smbus2\n",
    "bus = smbus2.SMBus(1)\n",
    "\n",
    "meas_temp= smbus2.i2c_msg.write(0x40,[0xf3])\n",
    "bus.i2c_rdwr(meas_temp)\n",
    "\n",
    "#wait for measurement\n",
    "time.sleep(0.1)\n",
    "\n",
    "#send the read temperature command and read 2 bytes of data\n",
    "read_result= smbus2.i2c_msg.read(0x40,2)\n",
    "bus.i2c_rdwr(read_result)\n",
    "\n",
    "#convert the result to INT type\n",
    "temp = int.from_bytes(read_result.buf[0]+read_result.buf[1],'big')\n",
    "\n",
    "print (temp)\n"
   ]
  },
  {
   "cell_type": "code",
   "execution_count": 29,
   "id": "9df5570d",
   "metadata": {},
   "outputs": [
    {
     "name": "stdout",
     "output_type": "stream",
     "text": [
      "Relative Humidity is : 45.96 %\n",
      "Temperature in Celsius is : 26.19 C\n",
      "Temperature in Fahrenheit is : 79.15 F\n"
     ]
    }
   ],
   "source": [
    "import smbus2\n",
    "bus = smbus2.SMBus(1)\n",
    "\n",
    "\n",
    " \n",
    "time.sleep(0.3)\n",
    "bus.write_byte(0x40, 0xF3)\n",
    "time.sleep(0.3)\n",
    " \n",
    "# SI7021 address, 0x40 Read data 2 bytes, Temperature\n",
    "data0 = bus.read_byte(0x40)\n",
    "data1 = bus.read_byte(0x40)\n",
    "\n",
    "# Convert the data\n",
    "humidity = ((data0 * 256 + data1) * 125 / 65536.0) - 6\n",
    "\n",
    "# Convert the data and output it\n",
    "celsTemp = ((data0 * 256 + data1) * 175.72 / 65536.0) - 46.85\n",
    "fahrTemp = celsTemp * 1.8 + 32\n",
    " \n",
    "print (\"Relative Humidity is : %.2f %%\" %humidity)\n",
    "print (\"Temperature in Celsius is : %.2f C\" %celsTemp)\n",
    "print (\"Temperature in Fahrenheit is : %.2f F\" %fahrTemp)\n"
   ]
  },
  {
   "cell_type": "code",
   "execution_count": null,
   "id": "c76e458d",
   "metadata": {},
   "outputs": [],
   "source": []
  }
 ],
 "metadata": {
  "kernelspec": {
   "display_name": "Python 3 (ipykernel)",
   "language": "python",
   "name": "python3"
  },
  "language_info": {
   "codemirror_mode": {
    "name": "ipython",
    "version": 3
   },
   "file_extension": ".py",
   "mimetype": "text/x-python",
   "name": "python",
   "nbconvert_exporter": "python",
   "pygments_lexer": "ipython3",
   "version": "3.9.2"
  }
 },
 "nbformat": 4,
 "nbformat_minor": 5
}
