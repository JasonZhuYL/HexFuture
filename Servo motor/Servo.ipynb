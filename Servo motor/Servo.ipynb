{
 "cells": [
  {
   "cell_type": "code",
   "execution_count": 1,
   "id": "1a4b52f5",
   "metadata": {},
   "outputs": [
    {
     "ename": "TabError",
     "evalue": "inconsistent use of tabs and spaces in indentation (1144764315.py, line 9)",
     "output_type": "error",
     "traceback": [
      "\u001b[0;36m  Input \u001b[0;32mIn [1]\u001b[0;36m\u001b[0m\n\u001b[0;31m    servo.value = val\u001b[0m\n\u001b[0m                     ^\u001b[0m\n\u001b[0;31mTabError\u001b[0m\u001b[0;31m:\u001b[0m inconsistent use of tabs and spaces in indentation\n"
     ]
    }
   ],
   "source": [
    "from gpiozero import Servo\n",
    "from time import sleep\n",
    "\n",
    "servo = Servo(25)\n",
    "val = -1\n",
    "\n",
    "try:\n",
    "    while True:\n",
    "        servo.value = val\n",
    "        sleep(0.1)\n",
    "        val = val + 0.1\n",
    "        if val > 1:\n",
    "            val = -1\n",
    "except KeyboardInterrupt:\n",
    "    print(\"Program stopped\")"
   ]
  },
  {
   "cell_type": "code",
   "execution_count": null,
   "id": "f770020e",
   "metadata": {},
   "outputs": [],
   "source": []
  }
 ],
 "metadata": {
  "kernelspec": {
   "display_name": "Python 3 (ipykernel)",
   "language": "python",
   "name": "python3"
  },
  "language_info": {
   "codemirror_mode": {
    "name": "ipython",
    "version": 3
   },
   "file_extension": ".py",
   "mimetype": "text/x-python",
   "name": "python",
   "nbconvert_exporter": "python",
   "pygments_lexer": "ipython3",
   "version": "3.9.2"
  }
 },
 "nbformat": 4,
 "nbformat_minor": 5
}
